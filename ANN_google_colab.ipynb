{
 "cells": [
  {
   "cell_type": "code",
   "execution_count": 3196,
   "metadata": {
    "id": "2GI3HSnAK799"
   },
   "outputs": [],
   "source": [
    "",
    "import os\n",
    "import numpy as np\n",
    "import random\n",
    "from sklearn.utils import shuffle\n",
    "from sklearn.model_selection import train_test_split\n",
    "import matplotlib.pyplot as plt\n",
    "import tensorflow as tf\n",
    "from tensorflow import keras"
   ]
  },
  {
   "cell_type": "code",
   "execution_count": 3197,
   "metadata": {
    "colab": {
     "base_uri": "https://localhost:8080/",
     "height": 0
    },
    "id": "35zE_42dLff9",
    "outputId": "754e73d1-25d6-4d6f-e0ff-705ef91e0f84"
   },
   "outputs": [
    {
     "name": "stdout",
     "output_type": "stream",
     "text": [
      "/content/drive/MyDrive/Colab_Notebooks/Data2019\n",
      "/content/drive/MyDrive/Colab_Notebooks/GridEyeData\n"
     ]
    }
   ],
   "source": [
    "# warning: this is not the actual code just an interactive code notebook to understand the code and data interactively.\n",
    "# this file is good to know how code is working but does not cover all cases.\n",
    "# please use pycharm to run the code from main.py file\n",
    "\n",
    "Data2019 = \"/content/drive/MyDrive/Colab_Notebooks/Data2019\"\n",
    "GridEyeData = \"/content/drive/MyDrive/Colab_Notebooks/GridEyeData\"\n",
    "print(Data2019)\n",
    "print(GridEyeData)"
   ]
  },
  {
   "cell_type": "code",
   "execution_count": 3198,
   "metadata": {
    "id": "2D9TSgSWMOj_"
   },
   "outputs": [],
   "source": [
    "# numpy arrays are loaded from files without first 2 lines of header\n",
    "# First column(0) of thermistor reading is removed from array on axis = 1\n",
    "control_nothing = np.delete(np.genfromtxt(os.path.join(Data2019, \"control\" , \"nothing\") , skip_header = 2), 0, 1)\n",
    "indoors_none_blank =np.delete(np.genfromtxt(os.path.join(GridEyeData, \"indoors\" , \"none\" , \"blank.txt\") , skip_header = 2), 0, 1)\n",
    "indoors_single_1foot =np.delete(np.genfromtxt(os.path.join(GridEyeData, \"indoors\" , \"single\" , \"1foot.txt\") , skip_header = 2), 0, 1)\n",
    "indoors_single_3feet =np.delete(np.genfromtxt(os.path.join(GridEyeData, \"indoors\" , \"single\" , \"3feet.txt\") , skip_header = 2), 0, 1)\n",
    "indoors_single_8feet =np.delete(np.genfromtxt(os.path.join(GridEyeData, \"indoors\" , \"single\" , \"8feet.txt\") , skip_header = 2), 0, 1)\n",
    "indoors_two_3foot =np.delete(np.genfromtxt(os.path.join(GridEyeData, \"indoors\" , \"two\" , \"3foot.txt\") , skip_header = 2), 0, 1)\n",
    "indoors_three_3feet =np.delete(np.genfromtxt(os.path.join(GridEyeData, \"indoors\" , \"three\" , \"3feet.txt\") , skip_header = 2), 0, 1)\n",
    "distance_1p1ft =np.delete(np.genfromtxt(os.path.join(Data2019, \"distance\" , \"1p1ft\") , skip_header = 2), 0, 1)\n",
    "control_1p3ft =np.delete(np.genfromtxt(os.path.join(Data2019, \"control\" , \"1p3ft\") , skip_header = 2), 0, 1)\n",
    "distance_1p6ft =np.delete(np.genfromtxt(os.path.join(Data2019, \"distance\" , \"1p6ft\") , skip_header = 2), 0, 1)\n",
    "qty_2p3ft = np.delete(np.genfromtxt(os.path.join(Data2019, \"qty\" , \"2p3ft\") , skip_header = 2), 0, 1)\n",
    "qty_3p3ft = np.delete(np.genfromtxt(os.path.join(Data2019, \"qty\" , \"3p3ft\") , skip_header = 2), 0, 1)\n",
    "outdoors_nothingo =np.delete(np.genfromtxt(os.path.join(Data2019, \"outdoors\" , \"nothingo\") , skip_header = 2), 0, 1)\n",
    "outdoors_none_blank =np.delete(np.genfromtxt(os.path.join(GridEyeData, \"outdoors\" , \"none\" , \"blank.txt\") , skip_header = 2), 0, 1)\n",
    "outdoors_1p1fto =np.delete(np.genfromtxt(os.path.join(Data2019, \"outdoors\" , \"1p1fto\") , skip_header = 2), 0, 1)\n",
    "outdoors_single_1foot =np.delete(np.genfromtxt(os.path.join(GridEyeData, \"outdoors\" , \"single\" , \"1foot.txt\") , skip_header = 2), 0, 1)\n",
    "outdoors_1p3fto =np.delete(np.genfromtxt(os.path.join(Data2019, \"outdoors\" , \"1p3fto\") , skip_header = 2), 0, 1)\n",
    "outdoors_single_6feet =np.delete(np.genfromtxt(os.path.join(GridEyeData, \"outdoors\" , \"single\" , \"6feet.txt\") , skip_header = 2), 0, 1)"
   ]
  },
  {
   "cell_type": "code",
   "execution_count": 3199,
   "metadata": {
    "colab": {
     "base_uri": "https://localhost:8080/",
     "height": 0
    },
    "id": "FBwfmbO6NFWX",
    "outputId": "293aaf52-fa71-4f64-c800-cf0ebb6a814c"
   },
   "outputs": [
    {
     "name": "stdout",
     "output_type": "stream",
     "text": [
      "[[96. 88. 90. ... 71. 70. 64.]\n",
      " [90. 88. 89. ... 69. 72. 62.]\n",
      " [92. 83. 91. ... 71. 69. 65.]\n",
      " ...\n",
      " [89. 89. 88. ... 73. 73. 64.]\n",
      " [93. 92. 85. ... 72. 73. 68.]\n",
      " [92. 88. 86. ... 74. 70. 63.]]\n",
      "(158, 64)\n"
     ]
    }
   ],
   "source": [
    "print(control_nothing)  # values of all files are in this numpy array format\n",
    "print(control_nothing.shape)"
   ]
  },
  {
   "cell_type": "code",
   "execution_count": 3200,
   "metadata": {
    "id": "3zl5CPKoNLjt"
   },
   "outputs": [],
   "source": [
    "# creating labels for each file according to the information provided in the file and storing into a ndarray\n",
    "# labels are as:\n",
    "#     \"Location\": [\"Outdoor\": 0, \"Indoor\": 1],\n",
    "#     \"Subject Quantity\": [\"None\": 0, \"Single\":1, \"Two\": 2, \"Three\": 3],\n",
    "#     \"Presence\": [\"Absence\": 0, \"Presence\": 1],\n",
    "#     \"Distance\": [\"Dist 1'\": 0, \"Dist 3'\": 1, \"Dist 6/8'\": 2]\n",
    "\n",
    "label_control_nothing = np.tile([1,0,0,np.nan], (control_nothing.shape[0],1))\n",
    "label_indoors_none_blank = np.tile([1,0,0,np.nan], (indoors_none_blank.shape[0],1))\n",
    "label_indoors_single_1foot = np.tile([1,1,1,0], (indoors_single_1foot.shape[0],1))\n",
    "label_indoors_single_3feet = np.tile([1,1,1,1], (indoors_single_3feet.shape[0],1))\n",
    "label_indoors_single_8feet = np.tile([1,1,1,2], (indoors_single_8feet.shape[0],1))\n",
    "label_indoors_two_3foot = np.tile([1,2,1,1], (indoors_two_3foot.shape[0],1))\n",
    "label_indoors_three_3feet = np.tile([1,3,1,1], (indoors_three_3feet.shape[0],1))\n",
    "label_distance_1p1ft = np.tile([np.nan,1,1,0], (distance_1p1ft.shape[0],1))\n",
    "label_control_1p3ft = np.tile([np.nan,1,1,1], (control_1p3ft.shape[0],1))\n",
    "label_distance_1p6ft = np.tile([np.nan,1,1,2], (distance_1p6ft.shape[0],1))\n",
    "label_qty_2p3ft = np.tile([np.nan,2,1,1], (qty_2p3ft.shape[0],1))\n",
    "label_qty_3p3ft = np.tile([np.nan,3,1,1], (qty_3p3ft.shape[0],1))\n",
    "label_outdoors_nothingo = np.tile([0,0,0,np.nan], (outdoors_nothingo.shape[0],1))\n",
    "label_outdoors_none_blank = np.tile([0,0,0,np.nan], (outdoors_none_blank.shape[0],1))\n",
    "label_outdoors_1p1fto = np.tile([0,1,1,0], (outdoors_1p1fto.shape[0],1))\n",
    "label_outdoors_single_1foot = np.tile([0,1,1,0], (outdoors_single_1foot.shape[0],1))\n",
    "label_outdoors_1p3fto = np.tile([0,1,1,1], (outdoors_1p3fto.shape[0],1))\n",
    "label_outdoors_single_6feet = np.tile([0,1,1,2], (outdoors_single_6feet.shape[0],1))"
   ]
  },
  {
   "cell_type": "code",
   "execution_count": 3201,
   "metadata": {
    "colab": {
     "base_uri": "https://localhost:8080/",
     "height": 0
    },
    "id": "SzE8GqMePu0u",
    "outputId": "92b4eb33-ede3-40bf-d17b-7eeb59be121f"
   },
   "outputs": [
    {
     "name": "stdout",
     "output_type": "stream",
     "text": [
      "[[ 1.  0.  0. nan]\n",
      " [ 1.  0.  0. nan]\n",
      " [ 1.  0.  0. nan]\n",
      " [ 1.  0.  0. nan]\n",
      " [ 1.  0.  0. nan]\n",
      " [ 1.  0.  0. nan]\n",
      " [ 1.  0.  0. nan]\n",
      " [ 1.  0.  0. nan]\n",
      " [ 1.  0.  0. nan]\n",
      " [ 1.  0.  0. nan]\n",
      " [ 1.  0.  0. nan]\n",
      " [ 1.  0.  0. nan]\n",
      " [ 1.  0.  0. nan]\n",
      " [ 1.  0.  0. nan]\n",
      " [ 1.  0.  0. nan]\n",
      " [ 1.  0.  0. nan]\n",
      " [ 1.  0.  0. nan]\n",
      " [ 1.  0.  0. nan]\n",
      " [ 1.  0.  0. nan]\n",
      " [ 1.  0.  0. nan]\n",
      " [ 1.  0.  0. nan]\n",
      " [ 1.  0.  0. nan]\n",
      " [ 1.  0.  0. nan]\n",
      " [ 1.  0.  0. nan]\n",
      " [ 1.  0.  0. nan]\n",
      " [ 1.  0.  0. nan]\n",
      " [ 1.  0.  0. nan]\n",
      " [ 1.  0.  0. nan]\n",
      " [ 1.  0.  0. nan]\n",
      " [ 1.  0.  0. nan]\n",
      " [ 1.  0.  0. nan]\n",
      " [ 1.  0.  0. nan]\n",
      " [ 1.  0.  0. nan]\n",
      " [ 1.  0.  0. nan]\n",
      " [ 1.  0.  0. nan]\n",
      " [ 1.  0.  0. nan]\n",
      " [ 1.  0.  0. nan]\n",
      " [ 1.  0.  0. nan]\n",
      " [ 1.  0.  0. nan]\n",
      " [ 1.  0.  0. nan]\n",
      " [ 1.  0.  0. nan]\n",
      " [ 1.  0.  0. nan]\n",
      " [ 1.  0.  0. nan]\n",
      " [ 1.  0.  0. nan]\n",
      " [ 1.  0.  0. nan]\n",
      " [ 1.  0.  0. nan]\n",
      " [ 1.  0.  0. nan]\n",
      " [ 1.  0.  0. nan]\n",
      " [ 1.  0.  0. nan]\n",
      " [ 1.  0.  0. nan]\n",
      " [ 1.  0.  0. nan]\n",
      " [ 1.  0.  0. nan]]\n",
      "(52, 4) float64\n"
     ]
    }
   ],
   "source": [
    "print(label_indoors_none_blank)\n",
    "print(label_indoors_none_blank.shape, label_indoors_none_blank.dtype)"
   ]
  },
  {
   "cell_type": "code",
   "execution_count": 3202,
   "metadata": {
    "id": "Tk0aqta8NUiv"
   },
   "outputs": [],
   "source": [
    "# dictionary to find out class name from a given attribute like distance or location\n",
    "# print(class_categories_names[\"Distance\"][1])#instead of 1 goes prediction of neural net using model.predict_classes(X)\n",
    "class_categories_names = {\n",
    "    \"Location\": [\"Outdoor\", \"Indoor\"],\n",
    "    \"Subject Quantity\": [\"None\", \"Single\", \"Two\", \"Three\"],\n",
    "    \"Presence\": [\"Absence\", \"Presence\"],\n",
    "    \"Distance\": [\"Dist 1'\", \"Dist 3'\", \"Dist 6/8'\"]\n",
    "}"
   ]
  },
  {
   "cell_type": "code",
   "execution_count": 3203,
   "metadata": {
    "id": "CiGlOmKVNWoD"
   },
   "outputs": [],
   "source": [
    "# creating datasets and labels to use for MLP models. Datasets and labels are created according to the identified\n",
    "# files which answers the required questions. like dist_in_1_dataset uses all files which have 1 object indoors with\n",
    "# different distance so it is used to classify distance of object indoors.\n",
    "\n",
    "# concatenates different datasets along 0 axis\n",
    "# concatenates different labels along 0 axis and choose only label which answers question and is required from label\n",
    "# arrays converts to integer as previously these arrays had np.nan values. (conversion for cross entropy loss function)\n",
    "\n",
    "dist_in_1_dataset = np.concatenate((indoors_single_1foot,indoors_single_3feet,indoors_single_8feet), axis = 0)\n",
    "dist_in_1_label = np.concatenate((label_indoors_single_1foot, label_indoors_single_3feet, label_indoors_single_8feet), axis = 0)[:,3].astype(int)\n",
    "dist_unknown_dataset = np.concatenate((distance_1p1ft, control_1p3ft, distance_1p6ft), axis = 0)\n",
    "dist_unknown_label = np.concatenate((label_distance_1p1ft, label_control_1p3ft, label_distance_1p6ft), axis = 0)[:,3].astype(int) #gets only distance label\n",
    "dist_out_dataset = np.concatenate((outdoors_1p1fto, outdoors_single_1foot, outdoors_1p3fto, outdoors_single_6feet), axis = 0)\n",
    "dist_out_label = np.concatenate((label_outdoors_1p1fto, label_outdoors_single_1foot, label_outdoors_1p3fto, label_outdoors_single_6feet), axis = 0)[:,3].astype(int)\n",
    "presence_in_dataset = np.concatenate((control_nothing, indoors_none_blank, indoors_single_1foot,indoors_single_3feet,indoors_single_8feet, indoors_two_3foot, indoors_three_3feet), axis = 0)\n",
    "presence_in_label = np.concatenate((label_control_nothing, label_indoors_none_blank, label_indoors_single_1foot, label_indoors_single_3feet, label_indoors_single_8feet, label_indoors_two_3foot, label_indoors_three_3feet), axis = 0)[:,2].astype(int)\n",
    "presence_out_dataset = np.concatenate((outdoors_nothingo, outdoors_none_blank, outdoors_1p1fto, outdoors_single_1foot, outdoors_1p3fto, outdoors_single_6feet), axis = 0)\n",
    "presence_out_label = np.concatenate((label_outdoors_nothingo, label_outdoors_none_blank, label_outdoors_1p1fto, label_outdoors_single_1foot, label_outdoors_1p3fto, label_outdoors_single_6feet), axis = 0)[:,2].astype(int)\n",
    "qty_in_dataset = np.concatenate((control_nothing, indoors_none_blank, indoors_single_1foot,indoors_single_3feet,indoors_single_8feet, indoors_two_3foot, indoors_three_3feet), axis = 0)\n",
    "qty_in_label = np.concatenate((label_control_nothing, label_indoors_none_blank, label_indoors_single_1foot, label_indoors_single_3feet, label_indoors_single_8feet, label_indoors_two_3foot, label_indoors_three_3feet), axis = 0)[:,1].astype(int)\n",
    "qty_unknown_dataset = np.concatenate((control_1p3ft, qty_2p3ft, qty_3p3ft), axis = 0)\n",
    "qty_unknown_label = np.concatenate((label_control_1p3ft, label_qty_2p3ft, label_qty_3p3ft), axis = 0)[:,1].astype(int)\n",
    "location_dataset = np.concatenate((control_nothing, indoors_none_blank, indoors_single_1foot,indoors_single_3feet,indoors_single_8feet, indoors_two_3foot, indoors_three_3feet, outdoors_nothingo, outdoors_none_blank, outdoors_1p1fto, outdoors_single_1foot, outdoors_1p3fto, outdoors_single_6feet), axis = 0)\n",
    "location_label = np.concatenate((label_control_nothing, label_indoors_none_blank, label_indoors_single_1foot, label_indoors_single_3feet, label_indoors_single_8feet, label_indoors_two_3foot, label_indoors_three_3feet, label_outdoors_nothingo, label_outdoors_none_blank, label_outdoors_1p1fto, label_outdoors_single_1foot, label_outdoors_1p3fto, label_outdoors_single_6feet), axis = 0)[:,0].astype(int)"
   ]
  },
  {
   "cell_type": "code",
   "execution_count": 3204,
   "metadata": {
    "colab": {
     "base_uri": "https://localhost:8080/",
     "height": 0
    },
    "id": "nvePeXLzQCBh",
    "outputId": "2a222a6c-eee0-490e-e0b0-ee212c43ec41"
   },
   "outputs": [
    {
     "name": "stdout",
     "output_type": "stream",
     "text": [
      "[[68. 71. 71. ... 79. 82. 63.]\n",
      " [68. 69. 72. ... 79. 84. 68.]\n",
      " [70. 63. 67. ... 79. 84. 67.]\n",
      " ...\n",
      " [72. 69. 75. ... 72. 69. 69.]\n",
      " [73. 73. 74. ... 73. 70. 69.]\n",
      " [75. 67. 69. ... 74. 72. 69.]]\n",
      "(183, 64)\n",
      "\n",
      "[0 0 0 0 0 0 0 0 0 0 0 0 0 0 0 0 0 0 0 0 0 0 0 0 0 0 0 0 0 0 0 0 0 0 0 0 0\n",
      " 0 0 0 0 0 1 1 1 1 1 1 1 1 1 1 1 1 1 1 1 1 1 1 1 1 1 1 1 1 1 1 1 1 1 1 1 1\n",
      " 1 1 1 1 1 1 1 1 1 1 1 1 1 1 1 1 1 1 1 1 1 1 1 1 1 1 1 1 1 1 1 1 1 1 1 1 1\n",
      " 1 1 1 1 1 1 1 1 1 1 1 1 1 1 2 2 2 2 2 2 2 2 2 2 2 2 2 2 2 2 2 2 2 2 2 2 2\n",
      " 2 2 2 2 2 2 2 2 2 2 2 2 2 2 2 2 2 2 2 2 2 2 2 2 2 2 2 2 2 2 2 2 2 2 2]\n",
      "(183,)\n"
     ]
    }
   ],
   "source": [
    "print(dist_in_1_dataset)\n",
    "print(dist_in_1_dataset.shape)\n",
    "print()\n",
    "print(dist_in_1_label)\n",
    "print(dist_in_1_label.shape)"
   ]
  },
  {
   "cell_type": "code",
   "execution_count": 3205,
   "metadata": {
    "id": "AlDtHDlnNYxF"
   },
   "outputs": [],
   "source": [
    "# pre process data before passing to neural network.\n",
    "def preProcess(X,y):\n",
    "\n",
    "    # pre-thresholding(clipping)- any data above 1000 is divided by 10 to prevent overexposure to radiation,\n",
    "    # overexposure affects the ability to adjust weights (find features) in the dataset.\n",
    "    np.divide(X, 10, out = X, where = X > 1000)\n",
    "    # normalization- perform min max feature scaling on data to bring them in a range of [0,1]\n",
    "    max_v = np.max(X)\n",
    "    min_v = np.min(X)\n",
    "    X = np.array([(s - min_v) / (max_v - min_v) for s in X])\n",
    "    # shuffle the dataset in unison so that the labels and samples remain in same order\n",
    "    # shuffling will help neural network to process different instance as files are concatenated.\n",
    "    X, y = shuffle(X, y, random_state = 66)\n",
    "    # split dataset and labels into train(75%) and test(25%) for each using train test split function from sklearn.\n",
    "    X_train, X_test, y_train, y_test = train_test_split(X, y, shuffle=False)\n",
    "\n",
    "    return X_train, X_test, y_train, y_test"
   ]
  },
  {
   "cell_type": "code",
   "execution_count": 3206,
   "metadata": {
    "id": "bMitzBXrNbLm"
   },
   "outputs": [],
   "source": [
    "# get train test split of dataset and labels, get data after clipping, get data after normalization and shuffle. pheww--\n",
    "dist_in_1_dataset_train, dist_in_1_dataset_test, dist_in_1_label_train, dist_in_1_label_test = preProcess(dist_in_1_dataset, dist_in_1_label)\n",
    "dist_unknown_dataset_train, dist_unknown_dataset_test, dist_unknown_label_train, dist_unknown_label_test = preProcess(dist_unknown_dataset, dist_unknown_label)\n",
    "dist_out_dataset_train, dist_out_dataset_test, dist_out_label_train, dist_out_label_test = preProcess(dist_out_dataset, dist_out_label)\n",
    "presence_in_dataset_train, presence_in_dataset_test, presence_in_label_train, presence_in_label_test = preProcess(presence_in_dataset, presence_in_label)\n",
    "presence_out_dataset_train, presence_out_dataset_test, presence_out_label_train, presence_out_label_test = preProcess(presence_out_dataset, presence_out_label)\n",
    "qty_in_dataset_train, qty_in_dataset_test, qty_in_label_train, qty_in_label_test = preProcess(qty_in_dataset, qty_in_label)\n",
    "qty_unknown_dataset_train, qty_unknown_dataset_test, qty_unknown_label_train, qty_unknown_label_test = preProcess(qty_unknown_dataset, qty_unknown_label)\n",
    "location_dataset_train, location_dataset_test, location_label_train, location_label_test = preProcess(location_dataset, location_label)"
   ]
  },
  {
   "cell_type": "code",
   "execution_count": 3207,
   "metadata": {
    "colab": {
     "base_uri": "https://localhost:8080/",
     "height": 0
    },
    "id": "TYB7SZHaNdoV",
    "outputId": "d62fea09-1a25-475e-f494-7b73585fe065"
   },
   "outputs": [
    {
     "name": "stdout",
     "output_type": "stream",
     "text": [
      "[0.63636364 0.60606061 0.65151515 0.59090909 0.60606061 0.65151515\n",
      " 0.51515152 0.53030303 0.56060606 0.56060606 0.59090909 0.62121212\n",
      " 0.57575758 0.62121212 0.54545455 0.5        0.53030303 0.54545455\n",
      " 0.60606061 0.59090909 0.60606061 0.60606061 0.57575758 0.5\n",
      " 0.51515152 0.53030303 0.59090909 0.54545455 0.60606061 0.53030303\n",
      " 0.51515152 0.53030303 0.51515152 0.56060606 0.56060606 0.57575758\n",
      " 0.63636364 0.54545455 0.56060606 0.48484848 0.40909091 0.5\n",
      " 0.5        0.53030303 0.54545455 0.53030303 0.5        0.45454545\n",
      " 0.3030303  0.39393939 0.40909091 0.5        0.5        0.48484848\n",
      " 0.39393939 0.31818182 0.21212121 0.31818182 0.34848485 0.42424242\n",
      " 0.37878788 0.33333333 0.40909091 0.25757576]\n",
      "\n",
      "[[0.65151515 0.57575758 0.60606061 ... 0.36363636 0.27272727 0.22727273]\n",
      " [0.48484848 0.51515152 0.53030303 ... 0.75757576 0.53030303 0.42424242]\n",
      " [0.68181818 0.65151515 0.65151515 ... 0.37878788 0.40909091 0.3030303 ]\n",
      " ...\n",
      " [0.31818182 0.36363636 0.39393939 ... 0.63636364 0.34848485 0.3030303 ]\n",
      " [0.27272727 0.3030303  0.39393939 ... 0.51515152 0.57575758 0.62121212]\n",
      " [0.36363636 0.28787879 0.40909091 ... 0.37878788 0.28787879 0.34848485]]\n",
      "\n",
      "(362, 64) float64\n"
     ]
    }
   ],
   "source": [
    "print(presence_in_dataset_train[200])  # picking a single value\n",
    "print()\n",
    "print(presence_in_dataset_train)  # printing whole set\n",
    "print()\n",
    "print(presence_in_dataset_train.shape, presence_in_dataset_train.dtype) # shape and type of set"
   ]
  },
  {
   "cell_type": "code",
   "execution_count": 3208,
   "metadata": {
    "colab": {
     "base_uri": "https://localhost:8080/",
     "height": 0
    },
    "id": "c_NQKh7kNqxW",
    "outputId": "911d15af-c9d0-4d97-f6df-d342fc3a7ec3"
   },
   "outputs": [
    {
     "name": "stdout",
     "output_type": "stream",
     "text": [
      "[[0.37878788 0.36363636 0.42424242 ... 0.62121212 0.62121212 0.59090909]\n",
      " [0.25757576 0.36363636 0.34848485 ... 0.40909091 0.46969697 0.45454545]\n",
      " [0.75757576 0.65151515 0.62121212 ... 0.36363636 0.36363636 0.34848485]\n",
      " ...\n",
      " [0.71212121 0.62121212 0.66666667 ... 0.40909091 0.43939394 0.28787879]\n",
      " [0.25757576 0.24242424 0.28787879 ... 0.36363636 0.37878788 0.5       ]\n",
      " [0.65151515 0.54545455 0.57575758 ... 0.36363636 0.36363636 0.28787879]]\n",
      "(121, 64) float64\n"
     ]
    }
   ],
   "source": [
    "print(presence_in_dataset_test) # printing whole test set\n",
    "print(presence_in_dataset_test.shape, presence_in_dataset_test.dtype)"
   ]
  },
  {
   "cell_type": "code",
   "execution_count": 3209,
   "metadata": {
    "colab": {
     "base_uri": "https://localhost:8080/",
     "height": 0
    },
    "id": "K66caYgkOEMf",
    "outputId": "d3fbce77-e5e8-42df-fa75-38e34bca613c"
   },
   "outputs": [
    {
     "name": "stdout",
     "output_type": "stream",
     "text": [
      "[0 1 0 1 0 0 1 1 1 0 1 0 0 1 0 1 1 1 0 1 0 0 0 1 1 0 1 1 1 1 0 0 1 0 0 0 1\n",
      " 1 1 1 1 0 0 0 1 0 1 0 0 0 0 1 1 0 1 0 1 1 1 1 1 1 1 1 0 1 1 1 0 1 1 0 0 1\n",
      " 0 1 1 0 0 0 1 1 1 1 0 1 0 1 0 0 0 0 0 1 1 1 0 1 1 0 1 0 1 1 1 1 1 0 0 1 1\n",
      " 0 1 1 1 1 0 1 1 1 1 0 1 1 0 1 0 1 1 1 1 1 1 1 1 0 0 1 0 1 0 1 1 1 0 1 0 1\n",
      " 0 1 1 1 1 1 0 0 0 1 0 1 1 1 0 0 0 0 0 0 0 0 0 0 0 1 0 1 1 0 1 1 0 1 0 1 1\n",
      " 1 1 0 1 0 1 1 1 0 1 0 1 1 1 1 0 1 0 0 0 1 1 1 0 1 1 0 0 1 0 1 1 0 0 1 1 0\n",
      " 0 0 0 0 1 1 1 1 0 1 1 1 0 0 0 1 0 1 1 0 0 1 0 1 1 1 1 1 0 1 1 1 1 1 0 0 0\n",
      " 1 1 1 1 1 1 0 1 1 0 1 1 0 1 1 0 1 1 1 0 0 0 0 1 0 0 0 1 1 0 0 1 0 0 0 0 0\n",
      " 0 0 0 0 0 1 1 1 1 0 1 1 0 0 1 0 0 1 1 1 1 0 0 1 0 1 0 1 0 0 0 1 1 0 0 0 0\n",
      " 1 1 1 1 1 1 0 1 1 1 1 1 1 0 1 1 0 1 0 0 1 0 0 0 1 1 1 1 1]\n",
      "(362,) int64\n"
     ]
    }
   ],
   "source": [
    "print(presence_in_label_train) # printing whole training labels\n",
    "print(presence_in_label_train.shape, presence_in_label_train.dtype)"
   ]
  },
  {
   "cell_type": "code",
   "execution_count": 3210,
   "metadata": {
    "colab": {
     "base_uri": "https://localhost:8080/",
     "height": 0
    },
    "id": "YOQhtjtNO6Ca",
    "outputId": "2aafd970-b1b1-4f02-a617-ce88b14dcbef"
   },
   "outputs": [
    {
     "name": "stdout",
     "output_type": "stream",
     "text": [
      "[1 1 0 1 1 0 0 1 0 1 0 0 0 1 1 0 0 0 0 0 0 1 0 1 0 1 0 1 1 0 1 0 1 1 1 1 1\n",
      " 1 0 0 1 1 1 1 1 1 0 1 0 1 0 0 1 0 0 1 0 1 1 1 0 0 1 1 1 1 0 1 1 1 0 0 0 0\n",
      " 0 1 0 1 1 0 1 1 1 1 1 1 0 1 1 1 0 1 0 0 1 0 1 1 1 1 1 0 0 1 0 1 1 1 1 1 0\n",
      " 1 0 1 0 0 0 0 0 1 0]\n",
      "(121,) int64\n"
     ]
    }
   ],
   "source": [
    "print(presence_in_label_test) # printing whole test labels\n",
    "print(presence_in_label_test.shape, presence_in_label_test.dtype)"
   ]
  },
  {
   "cell_type": "code",
   "execution_count": 3211,
   "metadata": {
    "id": "n2KTcH7BPPiA"
   },
   "outputs": [],
   "source": [
    "# sparse categorical cross entropy loss and softmax output activation function unless different values passed\n",
    "# sigmoid output activation function and binary crossentropy if labels are binary (yes or no/ presence or absence)\n",
    "# softmax output activation function for the multi-classes which are exclusive and sparse categorical crossentropy loss function\n",
    "# for sparse labels with target class index like 0,1,2,3 for multi-class output.\n",
    "\n",
    "# user can input most hyperparameters to the function\n",
    "\n",
    "def build_model_GD(n_hidden, n_neurons_list, activation_function, user_learning_rate, user_momentum, n_outputs, user_loss=\"sparse_categorical_crossentropy\", output_activation=\"softmax\"):\n",
    "    tf.keras.backend.clear_session() # to clear previous values and weights from tf backend\n",
    "    i = 0 # index to get value of neurons from neuron list\n",
    "    model = keras.models.Sequential() # adds layers sequentially\n",
    "    model.add(keras.layers.InputLayer(input_shape=[64,])) # input layer with shape (none, 64) where none is a batch axis\n",
    "    for layer in range(n_hidden): # to create user given number of hidden layers\n",
    "        model.add(keras.layers.Dense(n_neurons_list[i], activation=activation_function))\n",
    "        i += 1\n",
    "    model.add(keras.layers.Dense(n_outputs, activation=output_activation)) # output layer with output function sigmoid or softmax depending on class\n",
    "    # initializing stochastic gradient descent optimizer which computes gradient descent step in its tape tree.\n",
    "    optimizer = keras.optimizers.SGD(learning_rate=user_learning_rate, momentum=user_momentum)\n",
    "    # compiling the model where random weights and bias weights are set loss function, gradient descent is initialized and metrics to calculate are loaded  \n",
    "    model.compile(loss=user_loss, metrics=[\"accuracy\", tf.keras.metrics.FalsePositives(), tf.keras.metrics.FalseNegatives()], optimizer=optimizer)\n",
    "    return model # returns model object"
   ]
  },
  {
   "cell_type": "code",
   "execution_count": 3212,
   "metadata": {
    "id": "IJMO0gqePn1o"
   },
   "outputs": [],
   "source": [
    "# sparse categorical cross entropy loss and softmax output activation function unless different values passed\n",
    "# sigmoid output activation function and binary crossentropy if labels are binary (yes or no/ presence or absence)\n",
    "# softmax output activation function for the multi-classes which are exclusive and sparse categorical crossentropy loss function\n",
    "# for sparse labels with target class index like 0,1,2,3 for multi-class output.\n",
    "\n",
    "# user can input most hyperparameters to the function\n",
    "\n",
    "def build_model_RMS(n_hidden, n_neurons_list, activation_function, user_learning_rate, user_momentum, n_outputs, user_rho = 0.9, user_loss=\"sparse_categorical_crossentropy\", output_activation=\"softmax\"):\n",
    "    tf.keras.backend.clear_session() # to clear previous values and weights from tf backend\n",
    "    j = 0\n",
    "    model = keras.models.Sequential()\n",
    "    model.add(keras.layers.InputLayer(input_shape=[64,]))\n",
    "    for layer in range(n_hidden):\n",
    "        model.add(keras.layers.Dense(n_neurons_list[j], activation=activation_function))\n",
    "        j += 1\n",
    "    model.add(keras.layers.Dense(n_outputs, activation=output_activation))\n",
    "    # RMSprop optimizer which is a variation for learning which maintains a moving average of square of gradients and divide the gradient by the root of that average.\n",
    "    # this adaptive learning rate method of gradient descent provides an alternative to classical stochastic gradient descent implemented above.\n",
    "    optimizer = keras.optimizers.RMSprop(learning_rate=user_learning_rate, momentum=user_momentum, rho=user_rho)\n",
    "    # Accuracy calculates accuracy according to the context of loss. If loss is binary cross entropy then it calculates how often predictions match binary labels.\n",
    "    # If loss is sparse catagorical cross entropy then it calculates how often predictions matches integer labels.\n",
    "    # FalsePositives class calculates the number of false positives and FalseNegatives class calculates the number of false negatives.\n",
    "    model.compile(loss=user_loss, metrics=[\"accuracy\"], optimizer=optimizer)\n",
    "    return model"
   ]
  },
  {
   "cell_type": "code",
   "execution_count": 3213,
   "metadata": {
    "id": "8SrGNNDnWEFY"
   },
   "outputs": [],
   "source": [
    "# datasets which uses binary cross entropy loss and output activation function as sigmoid are presence_in_dataset, presence_out_dataset, location_dataset\n",
    "# datasets which uses sparse categorical cross entropy loss and output activation function as softmax are dist_in_1_dataset, dist_unknown_dataset, dist_out_dataset, qty_in_dataset, qty_unknown_dataset\n",
    "two_layer = [20,10] # neuron list\n",
    "model_binary_GD = build_model_GD(n_hidden=2, n_neurons_list= two_layer, activation_function=\"relu\", user_learning_rate=0.1, user_momentum=0.9, n_outputs=1, user_loss=\"binary_crossentropy\", output_activation=\"sigmoid\")"
   ]
  },
  {
   "cell_type": "code",
   "execution_count": 3214,
   "metadata": {
    "colab": {
     "base_uri": "https://localhost:8080/",
     "height": 0
    },
    "id": "eOCCFs_hmR99",
    "outputId": "9e6224f0-2ea7-4d2f-b80b-23f6e3b8af3e"
   },
   "outputs": [
    {
     "name": "stdout",
     "output_type": "stream",
     "text": [
      "Model: \"sequential\"\n",
      "_________________________________________________________________\n",
      "Layer (type)                 Output Shape              Param #   \n",
      "=================================================================\n",
      "dense (Dense)                (None, 20)                1300      \n",
      "_________________________________________________________________\n",
      "dense_1 (Dense)              (None, 10)                210       \n",
      "_________________________________________________________________\n",
      "dense_2 (Dense)              (None, 1)                 11        \n",
      "=================================================================\n",
      "Total params: 1,521\n",
      "Trainable params: 1,521\n",
      "Non-trainable params: 0\n",
      "_________________________________________________________________\n"
     ]
    }
   ],
   "source": [
    "model_binary_GD.summary()  # total parameters to train are 1532 in this specification\n",
    "# input layer is (none,64) shape and with bias connection going into a hidden layer of 20 neurons\n",
    "# output of hidden layer 1 goes to hidden layer 2 and then to output layer having 1 binary output with sigmoid function."
   ]
  },
  {
   "cell_type": "code",
   "execution_count": 3215,
   "metadata": {
    "colab": {
     "base_uri": "https://localhost:8080/",
     "height": 0
    },
    "id": "oX5jurV1oSvG",
    "outputId": "1f782d32-d278-4601-b036-25b2727102c9"
   },
   "outputs": [
    {
     "name": "stdout",
     "output_type": "stream",
     "text": [
      "(None, 64)\n",
      "(None, 1)\n",
      "binary_crossentropy\n"
     ]
    }
   ],
   "source": [
    "print(model_binary_GD.input_shape)\n",
    "print(model_binary_GD.output_shape)\n",
    "print(model_binary_GD.loss)"
   ]
  },
  {
   "cell_type": "code",
   "execution_count": 3216,
   "metadata": {
    "colab": {
     "base_uri": "https://localhost:8080/",
     "height": 0
    },
    "id": "vNtnwJW6qGmY",
    "outputId": "834817fe-79b9-41b1-90bf-7be13939ebf1"
   },
   "outputs": [
    {
     "name": "stdout",
     "output_type": "stream",
     "text": [
      "[[ 0.04421377  0.39386767 -0.1320821  -0.26368082  0.13531476  0.16339225\n",
      "  -0.05011019  0.07464015 -0.19149378  0.02674204]\n",
      " [ 0.4101544  -0.30492148 -0.10778731 -0.44286054 -0.34109667  0.21608424\n",
      "  -0.44102034 -0.28010303  0.4123279  -0.1947042 ]\n",
      " [ 0.14138144  0.38159555 -0.20935702  0.22936004  0.4213997   0.30314648\n",
      "   0.17376453  0.21770686 -0.02140626 -0.30119103]\n",
      " [ 0.08275795 -0.10021496  0.23886341 -0.00798935 -0.196753    0.26863968\n",
      "  -0.10858783  0.3729366   0.33570093 -0.13767561]\n",
      " [-0.24664004 -0.34763783 -0.4356808  -0.39809063 -0.09740114 -0.0079146\n",
      "  -0.32465205  0.27975714 -0.24813843  0.24300694]\n",
      " [-0.04551822  0.2802859   0.24982542  0.33360237 -0.32346296 -0.18040082\n",
      "   0.0113174   0.2635839   0.31988424 -0.39752743]\n",
      " [ 0.12432498 -0.3481138  -0.19091001 -0.35161674  0.30971068 -0.32776526\n",
      "   0.18076599 -0.3118977  -0.01681086  0.29984605]\n",
      " [ 0.22795397  0.20195276  0.4171613   0.09652245  0.24009287  0.3025347\n",
      "   0.40925908 -0.2652924  -0.26872668 -0.22943625]\n",
      " [-0.42155707  0.02868709  0.3003506   0.04237783 -0.03442836  0.3476712\n",
      "  -0.18411368 -0.30780032 -0.05853713 -0.34285712]\n",
      " [-0.33768055 -0.24139978  0.3434553   0.19221681  0.15209234  0.37031835\n",
      "   0.4441939   0.19328636 -0.05823475  0.2376253 ]\n",
      " [ 0.11337376  0.19112664 -0.04452023  0.0356572   0.39410776  0.05990684\n",
      "  -0.42957073  0.3751573   0.02447918 -0.4308952 ]\n",
      " [-0.06449315  0.06617385 -0.07136932  0.08146554 -0.11390528  0.39437443\n",
      "   0.24891335 -0.09649763 -0.18660656  0.37637973]\n",
      " [ 0.18602222  0.2688203   0.05207369 -0.33232588  0.38478607 -0.20181945\n",
      "   0.00612065  0.29619634 -0.06959671 -0.10259619]\n",
      " [ 0.03998786 -0.22656187 -0.3142     -0.24068776 -0.04915282  0.26137835\n",
      "   0.19013482 -0.15995929 -0.06040028 -0.38064426]\n",
      " [ 0.31133074  0.1586011  -0.06667712 -0.2859954  -0.4437689  -0.02115229\n",
      "   0.07457572 -0.14144403  0.41085082  0.3948292 ]\n",
      " [-0.1641992  -0.2681994   0.23643398 -0.13902622 -0.33781093 -0.23163664\n",
      "   0.2184934   0.10770959 -0.34964696 -0.02209869]\n",
      " [ 0.41387063 -0.15978667 -0.25145167  0.15881503  0.11694473 -0.10256508\n",
      "   0.2550819  -0.24407871 -0.38562605 -0.42028803]\n",
      " [ 0.15950048 -0.42000282 -0.23281431 -0.17461774 -0.1811102   0.15103722\n",
      "   0.3656394   0.22543687  0.26972288 -0.2890395 ]\n",
      " [-0.15678477 -0.2797374   0.2528901   0.2577234  -0.3310192   0.19522357\n",
      "   0.4386195  -0.371674    0.23625934 -0.40672535]\n",
      " [-0.4219629   0.18794721 -0.38747323  0.33994055  0.023855    0.08416152\n",
      "   0.40204626  0.24550366 -0.39773536 -0.03768998]]\n",
      "(20, 10)\n",
      "[0. 0. 0. 0. 0. 0. 0. 0. 0. 0.]\n",
      "(10,)\n"
     ]
    }
   ],
   "source": [
    "weights, biases = model_binary_GD.layers[1].get_weights()\n",
    "print(weights)        # random weights\n",
    "print(weights.shape)  # (20,10) 20 inputs at hidden layer 2 and 10 outputs\n",
    "print(biases)\n",
    "print(biases.shape)   # (10) 10 biases for each neuron at hidden layer 2"
   ]
  },
  {
   "cell_type": "code",
   "execution_count": 3217,
   "metadata": {
    "colab": {
     "base_uri": "https://localhost:8080/",
     "height": 0
    },
    "id": "NPdD4p7fqlBQ",
    "outputId": "988dd898-bbd3-4642-8796-a1a17f4c4276"
   },
   "outputs": [
    {
     "name": "stdout",
     "output_type": "stream",
     "text": [
      "Epoch 1/20\n",
      "12/12 [==============================] - 1s 2ms/step - loss: 0.6732 - accuracy: 0.5373 - false_positives: 56.6923 - false_negatives: 38.3846\n",
      "Epoch 2/20\n",
      "12/12 [==============================] - 0s 2ms/step - loss: 0.3533 - accuracy: 0.8804 - false_positives: 21.1538 - false_negatives: 1.5385\n",
      "Epoch 3/20\n",
      "12/12 [==============================] - 0s 2ms/step - loss: 0.1308 - accuracy: 0.9328 - false_positives: 9.8462 - false_negatives: 3.6154\n",
      "Epoch 4/20\n",
      "12/12 [==============================] - 0s 2ms/step - loss: 0.0778 - accuracy: 0.9647 - false_positives: 4.8462 - false_negatives: 3.4615    \n",
      "Epoch 5/20\n",
      "12/12 [==============================] - 0s 2ms/step - loss: 0.3867 - accuracy: 0.8856 - false_positives: 7.3846 - false_negatives: 16.2308\n",
      "Epoch 6/20\n",
      "12/12 [==============================] - 0s 1ms/step - loss: 0.0911 - accuracy: 0.9745 - false_positives: 1.3077 - false_negatives: 3.6154\n",
      "Epoch 7/20\n",
      "12/12 [==============================] - 0s 2ms/step - loss: 0.0443 - accuracy: 0.9823 - false_positives: 0.8462 - false_negatives: 2.8462    \n",
      "Epoch 8/20\n",
      "12/12 [==============================] - 0s 2ms/step - loss: 0.0271 - accuracy: 0.9855 - false_positives: 0.9231 - false_negatives: 1.5385\n",
      "Epoch 9/20\n",
      "12/12 [==============================] - 0s 2ms/step - loss: 0.0554 - accuracy: 0.9716 - false_positives: 3.6154 - false_negatives: 2.2308\n",
      "Epoch 10/20\n",
      "12/12 [==============================] - 0s 2ms/step - loss: 0.1684 - accuracy: 0.9325 - false_positives: 8.6923 - false_negatives: 7.6154\n",
      "Epoch 11/20\n",
      "12/12 [==============================] - 0s 2ms/step - loss: 0.2265 - accuracy: 0.9119 - false_positives: 5.3077 - false_negatives: 9.8462\n",
      "Epoch 12/20\n",
      "12/12 [==============================] - 0s 2ms/step - loss: 0.0537 - accuracy: 0.9885 - false_positives: 1.2308 - false_negatives: 1.0000\n",
      "Epoch 13/20\n",
      "12/12 [==============================] - 0s 2ms/step - loss: 0.0231 - accuracy: 0.9909 - false_positives: 1.0000 - false_negatives: 0.4615\n",
      "Epoch 14/20\n",
      "12/12 [==============================] - 0s 2ms/step - loss: 0.0162 - accuracy: 0.9904 - false_positives: 2.0769 - false_negatives: 0.5385    \n",
      "Epoch 15/20\n",
      "12/12 [==============================] - 0s 2ms/step - loss: 0.0958 - accuracy: 0.9733 - false_positives: 5.7692 - false_negatives: 1.1538    \n",
      "Epoch 16/20\n",
      "12/12 [==============================] - 0s 2ms/step - loss: 0.0355 - accuracy: 0.9822 - false_positives: 2.8462 - false_negatives: 1.0000\n",
      "Epoch 17/20\n",
      "12/12 [==============================] - 0s 2ms/step - loss: 0.0180 - accuracy: 0.9967 - false_positives: 0.0000e+00 - false_negatives: 0.7692\n",
      "Epoch 18/20\n",
      "12/12 [==============================] - 0s 2ms/step - loss: 0.0203 - accuracy: 0.9906 - false_positives: 1.7692 - false_negatives: 0.0000e+00\n",
      "Epoch 19/20\n",
      "12/12 [==============================] - 0s 2ms/step - loss: 0.0070 - accuracy: 1.0000 - false_positives: 0.0000e+00 - false_negatives: 0.0000e+00\n",
      "Epoch 20/20\n",
      "12/12 [==============================] - 0s 2ms/step - loss: 0.0049 - accuracy: 1.0000 - false_positives: 0.0000e+00 - false_negatives: 0.0000e+00\n"
     ]
    }
   ],
   "source": [
    "# training step\n",
    "# model is trained to answer if a person is present or absence in inside location.\n",
    "# model can predict on all conditions inside, whether its distance or number of subjects.\n",
    "history_presence_in = model_binary_GD.fit(presence_in_dataset_train, presence_in_label_train, epochs = 20)  # batch size default is 32, verbose = 2 required to log each epoch for data, can also add validation data later. "
   ]
  },
  {
   "cell_type": "code",
   "execution_count": 3218,
   "metadata": {
    "colab": {
     "base_uri": "https://localhost:8080/",
     "height": 0
    },
    "id": "HlglYSVDydGk",
    "outputId": "56262f63-7c73-4080-81ec-5ddf791bd10c"
   },
   "outputs": [
    {
     "data": {
      "text/plain": [
       "{'accuracy': [0.5966851115226746,\n",
       "  0.9171270728111267,\n",
       "  0.9475138187408447,\n",
       "  0.958563506603241,\n",
       "  0.90055251121521,\n",
       "  0.9779005646705627,\n",
       "  0.9834254384040833,\n",
       "  0.988950252532959,\n",
       "  0.9723756909370422,\n",
       "  0.9226519465446472,\n",
       "  0.939226508140564,\n",
       "  0.988950252532959,\n",
       "  0.9944751262664795,\n",
       "  0.9834254384040833,\n",
       "  0.9668508172035217,\n",
       "  0.9834254384040833,\n",
       "  0.9972375631332397,\n",
       "  0.9944751262664795,\n",
       "  1.0,\n",
       "  1.0],\n",
       " 'false_negatives': [49.0,\n",
       "  3.0,\n",
       "  6.0,\n",
       "  5.0,\n",
       "  22.0,\n",
       "  4.0,\n",
       "  4.0,\n",
       "  3.0,\n",
       "  5.0,\n",
       "  13.0,\n",
       "  13.0,\n",
       "  1.0,\n",
       "  1.0,\n",
       "  3.0,\n",
       "  4.0,\n",
       "  1.0,\n",
       "  1.0,\n",
       "  0.0,\n",
       "  0.0,\n",
       "  0.0],\n",
       " 'false_positives': [97.0,\n",
       "  27.0,\n",
       "  13.0,\n",
       "  10.0,\n",
       "  14.0,\n",
       "  4.0,\n",
       "  2.0,\n",
       "  1.0,\n",
       "  5.0,\n",
       "  15.0,\n",
       "  9.0,\n",
       "  3.0,\n",
       "  1.0,\n",
       "  3.0,\n",
       "  8.0,\n",
       "  5.0,\n",
       "  0.0,\n",
       "  2.0,\n",
       "  0.0,\n",
       "  0.0],\n",
       " 'loss': [0.6483723521232605,\n",
       "  0.2670082449913025,\n",
       "  0.11515205353498459,\n",
       "  0.10182550549507141,\n",
       "  0.3145776689052582,\n",
       "  0.07119428366422653,\n",
       "  0.0391150638461113,\n",
       "  0.02799643762409687,\n",
       "  0.055341482162475586,\n",
       "  0.1917443424463272,\n",
       "  0.15043069422245026,\n",
       "  0.04223082959651947,\n",
       "  0.018695460632443428,\n",
       "  0.02550790272653103,\n",
       "  0.1033996120095253,\n",
       "  0.03191610053181648,\n",
       "  0.015741417184472084,\n",
       "  0.014726008288562298,\n",
       "  0.006989306304603815,\n",
       "  0.005108807701617479]}"
      ]
     },
     "execution_count": 3218,
     "metadata": {
      "tags": []
     },
     "output_type": "execute_result"
    }
   ],
   "source": [
    "history_presence_in.history # gives accuracy, false negatives, false positives, loss over epochs as a dictionary"
   ]
  },
  {
   "cell_type": "code",
   "execution_count": 3219,
   "metadata": {
    "colab": {
     "base_uri": "https://localhost:8080/",
     "height": 0
    },
    "id": "945HXSNQ857D",
    "outputId": "f9f73e3a-db8f-4be8-bda7-1a409e81e766"
   },
   "outputs": [
    {
     "data": {
      "text/plain": [
       "[0.6483723521232605,\n",
       " 0.2670082449913025,\n",
       " 0.11515205353498459,\n",
       " 0.10182550549507141,\n",
       " 0.3145776689052582,\n",
       " 0.07119428366422653,\n",
       " 0.0391150638461113,\n",
       " 0.02799643762409687,\n",
       " 0.055341482162475586,\n",
       " 0.1917443424463272,\n",
       " 0.15043069422245026,\n",
       " 0.04223082959651947,\n",
       " 0.018695460632443428,\n",
       " 0.02550790272653103,\n",
       " 0.1033996120095253,\n",
       " 0.03191610053181648,\n",
       " 0.015741417184472084,\n",
       " 0.014726008288562298,\n",
       " 0.006989306304603815,\n",
       " 0.005108807701617479]"
      ]
     },
     "execution_count": 3219,
     "metadata": {
      "tags": []
     },
     "output_type": "execute_result"
    }
   ],
   "source": [
    "history_presence_in.history['loss']"
   ]
  },
  {
   "cell_type": "code",
   "execution_count": 3220,
   "metadata": {
    "colab": {
     "base_uri": "https://localhost:8080/",
     "height": 295
    },
    "id": "3-ICH5eZ_w3Y",
    "outputId": "8bbefa0d-aa33-44ab-9fc1-f0ff9a24f023"
   },
   "outputs": [
    {
     "data": {
      "image/png": "[encoded data removed]",
      "text/plain": [
       "<Figure size 432x288 with 1 Axes>"
      ]
     },
     "metadata": {
      "needs_background": "light",
      "tags": []
     },
     "output_type": "display_data"
    }
   ],
   "source": [
    "# ploting accuracy and loss graph\n",
    "plt.plot(history_presence_in.history['accuracy'], label = 'Training Accuracy')\n",
    "plt.plot(history_presence_in.history['loss'], label = 'Training Loss')\n",
    "plt.grid(True)\n",
    "plt.legend(loc= \"lower left\")\n",
    "plt.title('presence_in_dataset')\n",
    "plt.ylabel('Value')\n",
    "plt.xlabel('Number of epoch')\n",
    "plt.xlim(xmin=0)\n",
    "#plt.figure(figsize=(8,5))\n",
    "plt.show()"
   ]
  },
  {
   "cell_type": "code",
   "execution_count": 3221,
   "metadata": {
    "colab": {
     "base_uri": "https://localhost:8080/",
     "height": 295
    },
    "id": "_MzrhjhELFli",
    "outputId": "1fe519d8-e75a-4030-b415-d282d542fb23"
   },
   "outputs": [
    {
     "data": {
      "image/png": "[encoded data removed]",
      "text/plain": [
       "<Figure size 432x288 with 1 Axes>"
      ]
     },
     "metadata": {
      "needs_background": "light",
      "tags": []
     },
     "output_type": "display_data"
    }
   ],
   "source": [
    "# plotting False negatives and false postivies bar graphs \n",
    "ind = np.arange(history_presence_in.params['epochs'])\n",
    "width = 0.40\n",
    "rect1 = plt.bar(ind, history_presence_in.history['false_negatives'], width=width, color = 'orange')\n",
    "rect2 = plt.bar((ind+width), history_presence_in.history['false_positives'], width=width, color = 'blue')\n",
    "plt.grid(True)\n",
    "plt.legend((rect1[0], rect2[0]),('False Negatives', 'False Positives'), loc= \"upper right\")\n",
    "plt.title('presence_in_dataset')\n",
    "plt.ylabel('Number of False negatives/positives')\n",
    "plt.xlabel('Number of epoch')\n",
    "plt.show()"
   ]
  },
  {
   "cell_type": "code",
   "execution_count": 3222,
   "metadata": {
    "colab": {
     "base_uri": "https://localhost:8080/",
     "height": 0
    },
    "id": "Hbo-HyqtSVBz",
    "outputId": "693ce8ec-4e3b-4ae1-9014-85a75752cb5e"
   },
   "outputs": [
    {
     "name": "stdout",
     "output_type": "stream",
     "text": [
      "WARNING:tensorflow:5 out of the last 13 calls to <function Model.make_test_function.<locals>.test_function at 0x7f650ac7a5f0> triggered tf.function retracing. Tracing is expensive and the excessive number of tracings could be due to (1) creating @tf.function repeatedly in a loop, (2) passing tensors with different shapes, (3) passing Python objects instead of tensors. For (1), please define your @tf.function outside of the loop. For (2), @tf.function has experimental_relax_shapes=True option that relaxes argument shapes that can avoid unnecessary retracing. For (3), please refer to https://www.tensorflow.org/guide/function#controlling_retracing and https://www.tensorflow.org/api_docs/python/tf/function for  more details.\n",
      "4/4 [==============================] - 0s 6ms/step - loss: 0.0029 - accuracy: 1.0000 - false_positives: 0.0000e+00 - false_negatives: 0.0000e+00\n"
     ]
    },
    {
     "data": {
      "text/plain": [
       "[0.0029202024452388287, 1.0, 0.0, 0.0]"
      ]
     },
     "execution_count": 3222,
     "metadata": {
      "tags": []
     },
     "output_type": "execute_result"
    }
   ],
   "source": [
    "# evaluating model on test set\n",
    "model_binary_GD.evaluate(presence_in_dataset_test, presence_in_label_test) \n",
    "# model evaluated the unseen before test set (121 samples) at 0.0029 loss value \n",
    "# and 100% accuracy with 2 hidden layers with 20,10 neurons resp. and learning rate of 0.1 and momentum of 0.9"
   ]
  },
  {
   "cell_type": "code",
   "execution_count": 3223,
   "metadata": {
    "colab": {
     "base_uri": "https://localhost:8080/",
     "height": 1512
    },
    "id": "dFtIyd78T4bz",
    "outputId": "53f5b400-128e-4bc4-a54f-e21264045339"
   },
   "outputs": [
    {
     "name": "stdout",
     "output_type": "stream",
     "text": [
      "True Values:  [0 0 0 1 0]\n",
      "WARNING:tensorflow:11 out of the last 11 calls to <function Model.make_predict_function.<locals>.predict_function at 0x7f650cd048c0> triggered tf.function retracing. Tracing is expensive and the excessive number of tracings could be due to (1) creating @tf.function repeatedly in a loop, (2) passing tensors with different shapes, (3) passing Python objects instead of tensors. For (1), please define your @tf.function outside of the loop. For (2), @tf.function has experimental_relax_shapes=True option that relaxes argument shapes that can avoid unnecessary retracing. For (3), please refer to https://www.tensorflow.org/guide/function#controlling_retracing and https://www.tensorflow.org/api_docs/python/tf/function for  more details.\n",
      "Predicted Values:  [[0 0 0 1 0]]\n",
      "\n",
      "Predicted Class:  Absence 0\n"
     ]
    },
    {
     "data": {
      "image/png": "[encoded data removed]",
      "text/plain": [
       "<Figure size 432x288 with 1 Axes>"
      ]
     },
     "metadata": {
      "needs_background": "light",
      "tags": []
     },
     "output_type": "display_data"
    },
    {
     "name": "stdout",
     "output_type": "stream",
     "text": [
      "\n",
      "Predicted Class:  Absence 0\n"
     ]
    },
    {
     "data": {
      "image/png": "[encoded data removed]",
      "text/plain": [
       "<Figure size 432x288 with 1 Axes>"
      ]
     },
     "metadata": {
      "needs_background": "light",
      "tags": []
     },
     "output_type": "display_data"
    },
    {
     "name": "stdout",
     "output_type": "stream",
     "text": [
      "\n",
      "Predicted Class:  Absence 0\n"
     ]
    },
    {
     "data": {
      "image/png": "[encoded data removed]",
      "text/plain": [
       "<Figure size 432x288 with 1 Axes>"
      ]
     },
     "metadata": {
      "needs_background": "light",
      "tags": []
     },
     "output_type": "display_data"
    },
    {
     "name": "stdout",
     "output_type": "stream",
     "text": [
      "\n",
      "Predicted Class:  Presence 1\n"
     ]
    },
    {
     "data": {
      "image/png": "[encoded data removed]",
      "text/plain": [
       "<Figure size 432x288 with 1 Axes>"
      ]
     },
     "metadata": {
      "needs_background": "light",
      "tags": []
     },
     "output_type": "display_data"
    },
    {
     "name": "stdout",
     "output_type": "stream",
     "text": [
      "\n",
      "Predicted Class:  Absence 0\n"
     ]
    },
    {
     "data": {
      "image/png": "[encoded data removed]",
      "text/plain": [
       "<Figure size 432x288 with 1 Axes>"
      ]
     },
     "metadata": {
      "needs_background": "light",
      "tags": []
     },
     "output_type": "display_data"
    },
    {
     "name": "stdout",
     "output_type": "stream",
     "text": [
      "\n"
     ]
    }
   ],
   "source": [
    "# predicting answer of presnce/absence using random samples from presence_in_dataset and comparing them with true values of those samples.\n",
    "rni = random.randint(0, (presence_in_dataset_test.shape[0]-5)) # create random value between 0 and range-5\n",
    "test_val = presence_in_dataset_test[rni:rni+5]  # pick 5 random samples\n",
    "test_index = presence_in_label_test[rni:rni+5]  # pick labels of those same samples\n",
    "print(\"True Values: \", test_index)\n",
    "# np.argmax(model.predict(x), axis=-1) for multi-class classification; (model.predict(x) > 0.5).astype(\"int32\") if model does binary classification\n",
    "test = (model_binary_GD.predict(test_val) > 0.5).astype(\"int32\")\n",
    "print(\"Predicted Values: \", test.reshape(1,5))\n",
    "print()\n",
    "for x in range(test.shape[0]):\n",
    "  print(\"Predicted Class: \", class_categories_names[\"Presence\"][test[x,0]], test[x,0])\n",
    "  plt.imshow(test_val[x].reshape(8,8))\n",
    "  plt.show()  \n",
    "  print()"
   ]
  },
  {
   "cell_type": "code",
   "execution_count": 3224,
   "metadata": {
    "id": "G7lbpG2yeWa6"
   },
   "outputs": [],
   "source": [
    "# test for distance outdoors using RMSprop to predict classes Dist 1': 0; Dist 3': 1; Dist 6': 2\n",
    "# datasets which uses binary cross entropy loss and output activation function as sigmoid are presence_in_dataset, presence_out_dataset, location_dataset\n",
    "# datasets which uses sparse categorical cross entropy loss and output activation function as softmax are dist_in_1_dataset, dist_unknown_dataset, dist_out_dataset, qty_in_dataset, qty_unknown_dataset\n",
    "\n",
    "two_layer = [20,10] # number of neurons in each hidden layer list\n",
    "# no need to mention loss and output activation as they are default but still I did\n",
    "model_3_class = build_model_RMS(n_hidden=2, n_neurons_list=two_layer, activation_function=\"relu\", user_learning_rate=0.009, user_momentum=0.9, n_outputs=3, user_rho = 0.9, user_loss= \"sparse_categorical_crossentropy\", output_activation=\"softmax\")"
   ]
  },
  {
   "cell_type": "code",
   "execution_count": 3225,
   "metadata": {
    "colab": {
     "base_uri": "https://localhost:8080/",
     "height": 0
    },
    "id": "RibFzgFeeOXH",
    "outputId": "dc389c32-66b2-4661-e516-b5b68518bd66"
   },
   "outputs": [
    {
     "name": "stdout",
     "output_type": "stream",
     "text": [
      "Model: \"sequential\"\n",
      "_________________________________________________________________\n",
      "Layer (type)                 Output Shape              Param #   \n",
      "=================================================================\n",
      "dense (Dense)                (None, 20)                1300      \n",
      "_________________________________________________________________\n",
      "dense_1 (Dense)              (None, 10)                210       \n",
      "_________________________________________________________________\n",
      "dense_2 (Dense)              (None, 3)                 33        \n",
      "=================================================================\n",
      "Total params: 1,543\n",
      "Trainable params: 1,543\n",
      "Non-trainable params: 0\n",
      "_________________________________________________________________\n"
     ]
    }
   ],
   "source": [
    "model_3_class.summary() # printing summary of each layer"
   ]
  },
  {
   "cell_type": "code",
   "execution_count": 3226,
   "metadata": {
    "colab": {
     "base_uri": "https://localhost:8080/",
     "height": 0
    },
    "id": "NIJNqYQ7FpvN",
    "outputId": "99102acc-c1e0-476f-fa21-d6c2808f15b5"
   },
   "outputs": [
    {
     "name": "stdout",
     "output_type": "stream",
     "text": [
      "(None, 64)\n",
      "(None, 3)\n",
      "sparse_categorical_crossentropy\n"
     ]
    }
   ],
   "source": [
    "print(model_3_class.input_shape)\n",
    "print(model_3_class.output_shape)\n",
    "print(model_3_class.loss)"
   ]
  },
  {
   "cell_type": "code",
   "execution_count": 3227,
   "metadata": {
    "colab": {
     "base_uri": "https://localhost:8080/",
     "height": 0
    },
    "id": "eLRxYc_CGgqR",
    "outputId": "681e86fe-35e4-4acd-c3a9-52d48045447b"
   },
   "outputs": [
    {
     "name": "stdout",
     "output_type": "stream",
     "text": [
      "[[-0.28508514  0.35479677  0.0288645   0.38033742  0.34836853 -0.20698966\n",
      "  -0.39885107  0.43797088 -0.41307768 -0.21566106]\n",
      " [-0.32512206 -0.37611616 -0.3037117   0.14065862 -0.06046265  0.43426454\n",
      "   0.41081756  0.11233449 -0.39248934 -0.27749896]\n",
      " [-0.09463108 -0.18584716 -0.40961817 -0.43650034  0.33525229 -0.01753753\n",
      "  -0.1578865  -0.03524405  0.04167551 -0.41936606]\n",
      " [ 0.21729797 -0.19484359 -0.23729038  0.3937897   0.20116049 -0.04525283\n",
      "  -0.25910246 -0.13453725 -0.2994907   0.2768718 ]\n",
      " [ 0.31816     0.24034965  0.27537566 -0.06741956  0.23219621 -0.0604057\n",
      "   0.36519378 -0.38949662  0.41021216 -0.35246152]\n",
      " [-0.0781956   0.07350606  0.05173793 -0.40129298 -0.06236291 -0.11824435\n",
      "   0.05823582  0.27404708 -0.11011043 -0.26969472]\n",
      " [ 0.06191772  0.4290458   0.24309051  0.01666054  0.26468617  0.29270953\n",
      "  -0.24489503  0.02413103 -0.238031   -0.22568   ]\n",
      " [-0.2272638   0.23440641 -0.00845709  0.00774506 -0.31270075 -0.19542947\n",
      "  -0.20856865 -0.37176642 -0.36726648 -0.25874048]\n",
      " [ 0.23474157  0.4061501  -0.24286811 -0.44311666  0.08848464 -0.35047063\n",
      "   0.12434667 -0.00308782  0.069996   -0.29583806]\n",
      " [-0.31523213 -0.13418835 -0.3933598   0.11948031 -0.05769619  0.08175749\n",
      "   0.04021165 -0.39332366 -0.38792637  0.38373113]\n",
      " [-0.25063437 -0.43631855 -0.09395987  0.4034952  -0.13714877  0.21777552\n",
      "   0.28677654  0.26589817  0.26631367  0.1496244 ]\n",
      " [-0.05132496  0.00507179  0.0355942   0.33642757 -0.28987598 -0.05266598\n",
      "   0.26426083  0.11475229 -0.00091717 -0.1661455 ]\n",
      " [ 0.13436621  0.03273422  0.01885498 -0.13364929 -0.14608046 -0.35638803\n",
      "   0.12442553 -0.32869416 -0.01445693 -0.275095  ]\n",
      " [-0.24115242 -0.21498048 -0.14094523 -0.38869992  0.25818902  0.4188546\n",
      "   0.35091442  0.1126743  -0.18527386 -0.32224947]\n",
      " [ 0.4021091   0.06528944  0.29671377  0.19739115 -0.14721805  0.01185244\n",
      "  -0.13210249 -0.18338886  0.13403577  0.19225186]\n",
      " [ 0.23697114 -0.03223234  0.3061883   0.13207805 -0.24443708 -0.20351125\n",
      "   0.209292   -0.1704979   0.44267172  0.22761703]\n",
      " [-0.13785145  0.33038235  0.1854803   0.0156137  -0.07419476  0.3110081\n",
      "  -0.35904822  0.14868605 -0.11660734  0.14645463]\n",
      " [ 0.3862123  -0.07288572  0.02381724 -0.16486984  0.21556807  0.42871964\n",
      "   0.40151507 -0.07358989 -0.15678126 -0.09968045]\n",
      " [-0.20779903 -0.34121183  0.12083447  0.08014053 -0.3581726   0.1312545\n",
      "   0.32798535  0.3583833   0.25658637  0.06394839]\n",
      " [ 0.01230592  0.26483577  0.09345031  0.00224763  0.25729072  0.05799609\n",
      "   0.08132821  0.4347514  -0.22388135 -0.30419078]]\n",
      "(20, 10)\n",
      "[0. 0. 0. 0. 0. 0. 0. 0. 0. 0.]\n",
      "(10,)\n"
     ]
    }
   ],
   "source": [
    "weights, biases = model_3_class.layers[1].get_weights()\n",
    "print(weights)        # random weights\n",
    "print(weights.shape)  # (20,10) 20 inputs at hidden layer 2 and 10 outputs\n",
    "print(biases)\n",
    "print(biases.shape)   # (10) 10 biases for each neuron at hidden layer 2"
   ]
  },
  {
   "cell_type": "code",
   "execution_count": 3228,
   "metadata": {
    "colab": {
     "base_uri": "https://localhost:8080/",
     "height": 0
    },
    "id": "4M6t7cVOHHL7",
    "outputId": "c40f19a4-dfd7-442c-eefd-257216e9e2ed"
   },
   "outputs": [
    {
     "name": "stdout",
     "output_type": "stream",
     "text": [
      "Epoch 1/20\n",
      "5/5 [==============================] - 0s 3ms/step - loss: 1.0894 - accuracy: 0.4807\n",
      "Epoch 2/20\n",
      "5/5 [==============================] - 0s 2ms/step - loss: 2.6566 - accuracy: 0.2527\n",
      "Epoch 3/20\n",
      "5/5 [==============================] - 0s 2ms/step - loss: 1.5425 - accuracy: 0.3896\n",
      "Epoch 4/20\n",
      "5/5 [==============================] - 0s 2ms/step - loss: 0.9069 - accuracy: 0.6935\n",
      "Epoch 5/20\n",
      "5/5 [==============================] - 0s 3ms/step - loss: 0.7385 - accuracy: 0.5655\n",
      "Epoch 6/20\n",
      "5/5 [==============================] - 0s 2ms/step - loss: 0.4558 - accuracy: 0.8416\n",
      "Epoch 7/20\n",
      "5/5 [==============================] - 0s 3ms/step - loss: 0.3673 - accuracy: 0.9140\n",
      "Epoch 8/20\n",
      "5/5 [==============================] - 0s 3ms/step - loss: 0.2231 - accuracy: 0.9328\n",
      "Epoch 9/20\n",
      "5/5 [==============================] - 0s 3ms/step - loss: 0.1573 - accuracy: 0.9567\n",
      "Epoch 10/20\n",
      "5/5 [==============================] - 0s 2ms/step - loss: 0.2164 - accuracy: 0.9098\n",
      "Epoch 11/20\n",
      "5/5 [==============================] - 0s 3ms/step - loss: 0.0769 - accuracy: 0.9908\n",
      "Epoch 12/20\n",
      "5/5 [==============================] - 0s 2ms/step - loss: 0.1033 - accuracy: 0.9840\n",
      "Epoch 13/20\n",
      "5/5 [==============================] - 0s 2ms/step - loss: 0.0960 - accuracy: 0.9735\n",
      "Epoch 14/20\n",
      "5/5 [==============================] - 0s 2ms/step - loss: 0.1806 - accuracy: 0.9164\n",
      "Epoch 15/20\n",
      "5/5 [==============================] - 0s 2ms/step - loss: 0.2268 - accuracy: 0.9388\n",
      "Epoch 16/20\n",
      "5/5 [==============================] - 0s 3ms/step - loss: 0.0345 - accuracy: 1.0000\n",
      "Epoch 17/20\n",
      "5/5 [==============================] - 0s 3ms/step - loss: 0.0401 - accuracy: 1.0000\n",
      "Epoch 18/20\n",
      "5/5 [==============================] - 0s 3ms/step - loss: 0.0254 - accuracy: 0.9963\n",
      "Epoch 19/20\n",
      "5/5 [==============================] - 0s 2ms/step - loss: 0.1162 - accuracy: 0.9489\n",
      "Epoch 20/20\n",
      "5/5 [==============================] - 0s 3ms/step - loss: 0.0294 - accuracy: 0.9945\n"
     ]
    }
   ],
   "source": [
    "# training step\n",
    "# model is trained to answer what is the distance of the single subject inside.   classes Dist 1': 0; Dist 3': 1; Dist 6': 2.\n",
    "\n",
    "history_dist_in_1= model_3_class.fit(dist_in_1_dataset_train, dist_in_1_label_train, epochs = 20)"
   ]
  },
  {
   "cell_type": "code",
   "execution_count": 3229,
   "metadata": {
    "colab": {
     "base_uri": "https://localhost:8080/",
     "height": 0
    },
    "id": "RrkD4C-qUp9g",
    "outputId": "aff9ddc2-26f3-4130-c0ee-6773105286f2"
   },
   "outputs": [
    {
     "data": {
      "text/plain": [
       "{'accuracy': [0.48905110359191895,\n",
       "  0.29197078943252563,\n",
       "  0.41605839133262634,\n",
       "  0.7445255517959595,\n",
       "  0.6131386756896973,\n",
       "  0.8686131238937378,\n",
       "  0.9270073175430298,\n",
       "  0.9416058659553528,\n",
       "  0.9416058659553528,\n",
       "  0.9051094651222229,\n",
       "  0.985401451587677,\n",
       "  0.9781022071838379,\n",
       "  0.9635036587715149,\n",
       "  0.9197080135345459,\n",
       "  0.9635036587715149,\n",
       "  1.0,\n",
       "  1.0,\n",
       "  0.9927007555961609,\n",
       "  0.956204354763031,\n",
       "  0.9927007555961609],\n",
       " 'loss': [1.0832890272140503,\n",
       "  2.7892744541168213,\n",
       "  1.8662768602371216,\n",
       "  0.7747695446014404,\n",
       "  0.6825802326202393,\n",
       "  0.44307681918144226,\n",
       "  0.32666152715682983,\n",
       "  0.22337616980075836,\n",
       "  0.1833740621805191,\n",
       "  0.22913511097431183,\n",
       "  0.08430524915456772,\n",
       "  0.10203220695257187,\n",
       "  0.10509487241506577,\n",
       "  0.1740490198135376,\n",
       "  0.1413290798664093,\n",
       "  0.03410256281495094,\n",
       "  0.04087095335125923,\n",
       "  0.029043277725577354,\n",
       "  0.11334461718797684,\n",
       "  0.03715350851416588]}"
      ]
     },
     "execution_count": 3229,
     "metadata": {
      "tags": []
     },
     "output_type": "execute_result"
    }
   ],
   "source": [
    "history_dist_in_1.history"
   ]
  },
  {
   "cell_type": "code",
   "execution_count": 3230,
   "metadata": {
    "colab": {
     "base_uri": "https://localhost:8080/",
     "height": 295
    },
    "id": "QyJjm4stiZCw",
    "outputId": "c758f992-745c-44e8-ce74-68a29911a17f"
   },
   "outputs": [
    {
     "data": {
      "image/png": "[encoded data removed]",
      "text/plain": [
       "<Figure size 432x288 with 1 Axes>"
      ]
     },
     "metadata": {
      "needs_background": "light",
      "tags": []
     },
     "output_type": "display_data"
    }
   ],
   "source": [
    "# plotting training accuracy and training loss of model_3_class using RMSprop\n",
    "plt.plot(history_dist_in_1.history['accuracy'], label = 'Training Accuracy')\n",
    "plt.plot(history_dist_in_1.history['loss'], label = 'Training Loss')\n",
    "plt.grid(True)\n",
    "plt.legend(loc= \"lower left\")\n",
    "plt.title('Distance_in_1_dataset')\n",
    "plt.ylabel('Value')\n",
    "plt.xlabel('Number of epoch')\n",
    "plt.xlim(xmin=0)\n",
    "#plt.figure(figsize=(8,5))\n",
    "plt.show()"
   ]
  },
  {
   "cell_type": "code",
   "execution_count": 3231,
   "metadata": {
    "colab": {
     "base_uri": "https://localhost:8080/",
     "height": 0
    },
    "id": "Sk0VobVzizym",
    "outputId": "f41a36d3-a6c0-4c88-e221-3547d35b626a"
   },
   "outputs": [
    {
     "name": "stdout",
     "output_type": "stream",
     "text": [
      "2/2 [==============================] - 0s 5ms/step - loss: 0.0773 - accuracy: 0.9565\n"
     ]
    },
    {
     "data": {
      "text/plain": [
       "[0.0772768035531044, 0.95652174949646]"
      ]
     },
     "execution_count": 3231,
     "metadata": {
      "tags": []
     },
     "output_type": "execute_result"
    }
   ],
   "source": [
    "# evaluating loss and accuracy on test set. Loss: 0.0773 and accuracy: 95%\n",
    "model_3_class.evaluate(dist_in_1_dataset_test, dist_in_1_label_test)"
   ]
  },
  {
   "cell_type": "code",
   "execution_count": 3232,
   "metadata": {
    "colab": {
     "base_uri": "https://localhost:8080/",
     "height": 1529
    },
    "id": "ic6JkpTFiuTh",
    "outputId": "641ca4b3-e0f1-4d82-849d-2cd924ccf893"
   },
   "outputs": [
    {
     "name": "stdout",
     "output_type": "stream",
     "text": [
      "True Values:  [2 1 0 0 0]\n",
      "WARNING:tensorflow:11 out of the last 11 calls to <function Model.make_predict_function.<locals>.predict_function at 0x7f650c68ec20> triggered tf.function retracing. Tracing is expensive and the excessive number of tracings could be due to (1) creating @tf.function repeatedly in a loop, (2) passing tensors with different shapes, (3) passing Python objects instead of tensors. For (1), please define your @tf.function outside of the loop. For (2), @tf.function has experimental_relax_shapes=True option that relaxes argument shapes that can avoid unnecessary retracing. For (3), please refer to https://www.tensorflow.org/guide/function#controlling_retracing and https://www.tensorflow.org/api_docs/python/tf/function for  more details.\n",
      "Predicted Values:  [2 1 0 0 1]\n",
      "(5,)\n",
      "\n",
      "Predicted Class:  Dist 6/8' 2\n"
     ]
    },
    {
     "data": {
      "image/png": "[encoded data removed]",
      "text/plain": [
       "<Figure size 432x288 with 1 Axes>"
      ]
     },
     "metadata": {
      "needs_background": "light",
      "tags": []
     },
     "output_type": "display_data"
    },
    {
     "name": "stdout",
     "output_type": "stream",
     "text": [
      "\n",
      "Predicted Class:  Dist 3' 1\n"
     ]
    },
    {
     "data": {
      "image/png": "[encoded data removed]",
      "text/plain": [
       "<Figure size 432x288 with 1 Axes>"
      ]
     },
     "metadata": {
      "needs_background": "light",
      "tags": []
     },
     "output_type": "display_data"
    },
    {
     "name": "stdout",
     "output_type": "stream",
     "text": [
      "\n",
      "Predicted Class:  Dist 1' 0\n"
     ]
    },
    {
     "data": {
      "image/png": "[encoded data removed]",
      "text/plain": [
       "<Figure size 432x288 with 1 Axes>"
      ]
     },
     "metadata": {
      "needs_background": "light",
      "tags": []
     },
     "output_type": "display_data"
    },
    {
     "name": "stdout",
     "output_type": "stream",
     "text": [
      "\n",
      "Predicted Class:  Dist 1' 0\n"
     ]
    },
    {
     "data": {
      "image/png": "[encoded data removed]",
      "text/plain": [
       "<Figure size 432x288 with 1 Axes>"
      ]
     },
     "metadata": {
      "needs_background": "light",
      "tags": []
     },
     "output_type": "display_data"
    },
    {
     "name": "stdout",
     "output_type": "stream",
     "text": [
      "\n",
      "Predicted Class:  Dist 3' 1\n"
     ]
    },
    {
     "data": {
      "image/png": "[encoded data removed]",
      "text/plain": [
       "<Figure size 432x288 with 1 Axes>"
      ]
     },
     "metadata": {
      "needs_background": "light",
      "tags": []
     },
     "output_type": "display_data"
    },
    {
     "name": "stdout",
     "output_type": "stream",
     "text": [
      "\n"
     ]
    }
   ],
   "source": [
    "# predicting class of distance using random samples from dist_in_1_dataset and comparing them with true values of those samples.\n",
    "rni = random.randint(0, (dist_in_1_dataset_test.shape[0]-5)) # create random value between 0 and range-5\n",
    "test_val = dist_in_1_dataset_test[rni:rni+5]  # pick 5 random samples\n",
    "test_index = dist_in_1_label_test[rni:rni+5]  # pick labels of those same samples\n",
    "print(\"True Values: \", test_index)\n",
    "# np.argmax(model.predict(x), axis=-1) for multi-class classification; (model.predict(x) > 0.5).astype(\"int32\") if model does binary classification\n",
    "test = np.argmax(model_3_class.predict(test_val), axis=-1)\n",
    "print(\"Predicted Values: \", test)\n",
    "print(test.shape)\n",
    "print()\n",
    "\n",
    "for x in range(test.shape[0]):\n",
    "  print(\"Predicted Class: \", class_categories_names[\"Distance\"][test[x]], test[x])\n",
    "  plt.imshow(test_val[x].reshape(8,8))\n",
    "  plt.show()\n",
    "  print() "
   ]
  },
  {
   "cell_type": "code",
   "execution_count": 3232,
   "metadata": {
    "id": "xV35ERHxfvi0"
   },
   "outputs": [],
   "source": []
  }
 ],
 "metadata": {
  "colab": {
   "collapsed_sections": [],
   "name": "test.ipynb",
   "provenance": []
  },
  "kernelspec": {
   "display_name": "Python 3",
   "language": "python",
   "name": "python3"
  },
  "language_info": {
   "codemirror_mode": {
    "name": "ipython",
    "version": 3
   },
   "file_extension": ".py",
   "mimetype": "text/x-python",
   "name": "python",
   "nbconvert_exporter": "python",
   "pygments_lexer": "ipython3",
   "version": "3.8.5"
  }
 },
 "nbformat": 4,
 "nbformat_minor": 1
}
